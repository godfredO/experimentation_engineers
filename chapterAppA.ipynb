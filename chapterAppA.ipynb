{
 "cells": [
  {
   "cell_type": "code",
   "execution_count": 1,
   "metadata": {},
   "outputs": [],
   "source": [
    "import numpy as np"
   ]
  },
  {
   "cell_type": "markdown",
   "metadata": {},
   "source": [
    "### Linear Regression"
   ]
  },
  {
   "cell_type": "markdown",
   "metadata": {},
   "source": [
    "#### Univariate Linear regression\n",
    "\n",
    "$y_n=\\beta_xx_n+\\epsilon_n$\n",
    "\n",
    "$\\epsilon_n=y_n-\\beta_xx_n$ error is the difference between actual measurement and estimate\n",
    "\n",
    "$E=\\Sigma_n\\epsilon_n^2$      -- total error by representing error size with squares because squares is easier to work with\n",
    "\n",
    "\n",
    "\n",
    "$E=\\Sigma_n(y_n-\\beta_xx_n)^2$ \n",
    "\n",
    "The value of $\\beta_x$ that minimizes $E$ is given by value of $\\beta_x$ for which the derivative of $E$ with respect to $\\beta_x$ is 0\n",
    "\n",
    "$\\frac{\\delta E}{\\delta{\\beta}} = \\Sigma_n (-2)(y_n-\\beta_xx_n)x_n$\n",
    "\n",
    "$0 = (-2)\\Sigma_n (y_n-\\beta_xx_n)x_n$\n",
    "\n",
    "$0 = \\Sigma_n (y_nx_n-\\beta_xx_n^2)$\n",
    "\n",
    "$0 = \\Sigma_n (y_nx_n-\\beta_xx_n^2)$\n",
    "\n",
    "$\\Sigma_n\\beta_xx_n^2 = \\Sigma_n y_nx_n$\n",
    "\n",
    "$\\beta_x = \\frac{\\Sigma_n y_nx_n}{\\Sigma_nx_n^2}$\n",
    "\n"
   ]
  },
  {
   "cell_type": "code",
   "execution_count": 3,
   "metadata": {},
   "outputs": [
    {
     "data": {
      "text/plain": [
       "0.51"
      ]
     },
     "execution_count": 3,
     "metadata": {},
     "output_type": "execute_result"
    }
   ],
   "source": [
    "# Univariate linear regression\n",
    "x = np.array([1, 2, 3, 4])                      \n",
    "y = np.array([.5, 1.1, 1.4, 2.1])\n",
    "beta = (x*y).sum() / (x**2).sum()\n",
    "beta"
   ]
  },
  {
   "cell_type": "code",
   "execution_count": 6,
   "metadata": {},
   "outputs": [
    {
     "data": {
      "text/plain": [
       "0.51"
      ]
     },
     "execution_count": 6,
     "metadata": {},
     "output_type": "execute_result"
    }
   ],
   "source": [
    "# Writing the sum of corresponding products as a dot product in NumPy\n",
    "beta = (x@y) / (x@x)\n",
    "beta"
   ]
  },
  {
   "cell_type": "markdown",
   "metadata": {},
   "source": [
    "#### Multivariate linear regression\n",
    "\n",
    "$y_n=\\beta_0+\\beta_1x_n+\\beta_2x_n^2+\\epsilon_n$\n",
    "\n",
    "$\\beta = [\\beta_0, \\beta_1, \\beta_2]^T$        -- $\\beta $ is a vector containing all the $\\beta_i$\n",
    "\n",
    "X is a matrix where each row contains $[1,x_n,x_n^2]$\n",
    "\n",
    "$y=X\\beta+\\epsilon$  -- X is a matrix, $\\beta$ is a vector so each row \n",
    "\n",
    "$E=\\Sigma_n\\epsilon_n^2=\\epsilon^T\\epsilon$ where $\\epsilon$ is a vector of $\\epsilon_n$\n",
    "\n",
    "$E=(y-X\\beta)^T(y-X\\beta)$\n",
    "\n",
    "after taking the derivative of E with respect to $\\beta$ and setting it to 0\n",
    "\n",
    "$\\beta=(X^TX)^{-1}(X^Ty)$\n"
   ]
  },
  {
   "cell_type": "code",
   "execution_count": 7,
   "metadata": {},
   "outputs": [],
   "source": [
    "x = np.array([1, 2, 3, 4])\n",
    "y = np.array([.5, 1.1, 1.4, 1])"
   ]
  },
  {
   "cell_type": "code",
   "execution_count": 9,
   "metadata": {},
   "outputs": [
    {
     "data": {
      "text/plain": [
       "array([-0.7 ,  1.43, -0.25])"
      ]
     },
     "execution_count": 9,
     "metadata": {},
     "output_type": "execute_result"
    }
   ],
   "source": [
    "X = np.array([\n",
    "    [1, x[0], x[0]**2],\n",
    "    [1, x[1], x[1]**2],\n",
    "    [1, x[2], x[2]**2],\n",
    "    [1, x[3], x[3]**2]\n",
    "])\n",
    "\n",
    "beta = np.linalg.inv(X.T@X)@(X.T@y)\n",
    "beta"
   ]
  },
  {
   "cell_type": "code",
   "execution_count": null,
   "metadata": {},
   "outputs": [],
   "source": []
  }
 ],
 "metadata": {
  "kernelspec": {
   "display_name": "tfenv",
   "language": "python",
   "name": "python3"
  },
  "language_info": {
   "codemirror_mode": {
    "name": "ipython",
    "version": 3
   },
   "file_extension": ".py",
   "mimetype": "text/x-python",
   "name": "python",
   "nbconvert_exporter": "python",
   "pygments_lexer": "ipython3",
   "version": "3.9.6"
  }
 },
 "nbformat": 4,
 "nbformat_minor": 2
}
